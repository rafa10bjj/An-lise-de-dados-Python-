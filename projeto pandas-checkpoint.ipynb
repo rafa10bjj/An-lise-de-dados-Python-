{
 "cells": [
  {
   "cell_type": "markdown",
   "metadata": {},
   "source": [
    "# Exercício - Mini Projeto de Análise de Dados\n",
    "\n",
    "Vamos fazer um exercício completo de pandas para um miniprojeto de análise de dados.\n",
    "\n",
    "Esse exercício vai obrigar a gente a usar boa parte dos conhecimento de pandas e até de outros módulos que já aprendemos ao longo do curso.\n",
    "\n",
    "### O que temos?\n",
    "\n",
    "Temos os dados de 2019 de uma empresa de prestação de serviços. \n",
    "\n",
    "- CadastroFuncionarios\n",
    "- CadastroClientes\n",
    "- BaseServiçosPrestados\n",
    "\n",
    "### O que queremos saber/fazer?\n"
   ]
  },
  {
   "cell_type": "code",
   "execution_count": 1112,
   "metadata": {},
   "outputs": [],
   "source": [
    "#IMPORTANDO AS BIBLIOTECAS\n",
    "\n",
    "import pandas as pd\n",
    "from pandas import to_datetime\n",
    "import matplotlib.pyplot as plt\n",
    "import warnings\n",
    "warnings.filterwarnings(\"ignore\")\n",
    "\n",
    "#Comando para exibir todas colunas do arquivo\n",
    "pd.set_option('display.max_columns', None)\n",
    "pd.set_option('display.max_rows', None)"
   ]
  },
  {
   "cell_type": "code",
   "execution_count": 1113,
   "metadata": {},
   "outputs": [
    {
     "data": {
      "text/html": [
       "<div>\n",
       "<style scoped>\n",
       "    .dataframe tbody tr th:only-of-type {\n",
       "        vertical-align: middle;\n",
       "    }\n",
       "\n",
       "    .dataframe tbody tr th {\n",
       "        vertical-align: top;\n",
       "    }\n",
       "\n",
       "    .dataframe thead th {\n",
       "        text-align: right;\n",
       "    }\n",
       "</style>\n",
       "<table border=\"1\" class=\"dataframe\">\n",
       "  <thead>\n",
       "    <tr style=\"text-align: right;\">\n",
       "      <th></th>\n",
       "      <th>ID Cliente</th>\n",
       "      <th>Cliente</th>\n",
       "      <th>Valor Contrato Mensal</th>\n",
       "    </tr>\n",
       "  </thead>\n",
       "  <tbody>\n",
       "    <tr>\n",
       "      <th>0</th>\n",
       "      <td>1</td>\n",
       "      <td>Teixeira Gonçalves</td>\n",
       "      <td>540</td>\n",
       "    </tr>\n",
       "    <tr>\n",
       "      <th>1</th>\n",
       "      <td>2</td>\n",
       "      <td>Souza Santos</td>\n",
       "      <td>1260</td>\n",
       "    </tr>\n",
       "  </tbody>\n",
       "</table>\n",
       "</div>"
      ],
      "text/plain": [
       "   ID Cliente             Cliente  Valor Contrato Mensal\n",
       "0           1  Teixeira Gonçalves                    540\n",
       "1           2        Souza Santos                   1260"
      ]
     },
     "execution_count": 1113,
     "metadata": {},
     "output_type": "execute_result"
    }
   ],
   "source": [
    "# IMPORTANDO OS DADOS XLXS, CSV E ATRIBUINDO A A FUNCÃO\n",
    "def carrega_df():\n",
    "    df = pd.read_excel(r\"BaseServiçosPrestados.xlsx\", index_col=None)\n",
    "    return df\n",
    "\n",
    "df.head(2)"
   ]
  },
  {
   "cell_type": "code",
   "execution_count": 1114,
   "metadata": {},
   "outputs": [
    {
     "name": "stdout",
     "output_type": "stream",
     "text": [
      "<class 'pandas.core.frame.DataFrame'>\n",
      "RangeIndex: 237 entries, 0 to 236\n",
      "Data columns (total 4 columns):\n",
      " #   Column                           Non-Null Count  Dtype \n",
      "---  ------                           --------------  ----- \n",
      " 0   Codigo do Servico                237 non-null    object\n",
      " 1   ID Funcionário                   237 non-null    int64 \n",
      " 2   ID Cliente                       237 non-null    int64 \n",
      " 3   Tempo Total de Contrato (Meses)  237 non-null    int64 \n",
      "dtypes: int64(3), object(1)\n",
      "memory usage: 7.5+ KB\n"
     ]
    }
   ],
   "source": [
    "carrega_df().info()"
   ]
  },
  {
   "cell_type": "code",
   "execution_count": 1115,
   "metadata": {},
   "outputs": [
    {
     "data": {
      "text/html": [
       "<div>\n",
       "<style scoped>\n",
       "    .dataframe tbody tr th:only-of-type {\n",
       "        vertical-align: middle;\n",
       "    }\n",
       "\n",
       "    .dataframe tbody tr th {\n",
       "        vertical-align: top;\n",
       "    }\n",
       "\n",
       "    .dataframe thead th {\n",
       "        text-align: right;\n",
       "    }\n",
       "</style>\n",
       "<table border=\"1\" class=\"dataframe\">\n",
       "  <thead>\n",
       "    <tr style=\"text-align: right;\">\n",
       "      <th></th>\n",
       "      <th>ID Cliente</th>\n",
       "      <th>Cliente</th>\n",
       "      <th>Valor Contrato Mensal</th>\n",
       "    </tr>\n",
       "  </thead>\n",
       "  <tbody>\n",
       "    <tr>\n",
       "      <th>0</th>\n",
       "      <td>1</td>\n",
       "      <td>Teixeira Gonçalves</td>\n",
       "      <td>540</td>\n",
       "    </tr>\n",
       "    <tr>\n",
       "      <th>1</th>\n",
       "      <td>2</td>\n",
       "      <td>Souza Santos</td>\n",
       "      <td>1260</td>\n",
       "    </tr>\n",
       "  </tbody>\n",
       "</table>\n",
       "</div>"
      ],
      "text/plain": [
       "   ID Cliente             Cliente  Valor Contrato Mensal\n",
       "0           1  Teixeira Gonçalves                    540\n",
       "1           2        Souza Santos                   1260"
      ]
     },
     "execution_count": 1115,
     "metadata": {},
     "output_type": "execute_result"
    }
   ],
   "source": [
    "# IMPORTANDO OS DADOS XLXS, CSV E ATRIBUINDO A A FUNCÃO\n",
    "def carregar_df2():\n",
    "    df2= pd.read_csv(r\"CadastroClientes.csv\", sep=\";\", decimal=\",\", index_col=None)\n",
    "    return df2\n",
    "    \n",
    "df2.head(2)"
   ]
  },
  {
   "cell_type": "code",
   "execution_count": 1116,
   "metadata": {},
   "outputs": [
    {
     "name": "stdout",
     "output_type": "stream",
     "text": [
      "<class 'pandas.core.frame.DataFrame'>\n",
      "RangeIndex: 320 entries, 0 to 319\n",
      "Data columns (total 3 columns):\n",
      " #   Column                 Non-Null Count  Dtype \n",
      "---  ------                 --------------  ----- \n",
      " 0   ID Cliente             320 non-null    int64 \n",
      " 1   Cliente                320 non-null    object\n",
      " 2   Valor Contrato Mensal  320 non-null    int64 \n",
      "dtypes: int64(2), object(1)\n",
      "memory usage: 7.6+ KB\n"
     ]
    }
   ],
   "source": [
    "df2.info()"
   ]
  },
  {
   "cell_type": "code",
   "execution_count": 1117,
   "metadata": {},
   "outputs": [
    {
     "data": {
      "text/html": [
       "<div>\n",
       "<style scoped>\n",
       "    .dataframe tbody tr th:only-of-type {\n",
       "        vertical-align: middle;\n",
       "    }\n",
       "\n",
       "    .dataframe tbody tr th {\n",
       "        vertical-align: top;\n",
       "    }\n",
       "\n",
       "    .dataframe thead th {\n",
       "        text-align: right;\n",
       "    }\n",
       "</style>\n",
       "<table border=\"1\" class=\"dataframe\">\n",
       "  <thead>\n",
       "    <tr style=\"text-align: right;\">\n",
       "      <th></th>\n",
       "      <th>ID Funcionário</th>\n",
       "      <th>Nome Completo</th>\n",
       "      <th>Salario Base</th>\n",
       "      <th>Impostos</th>\n",
       "      <th>Beneficios</th>\n",
       "      <th>VT</th>\n",
       "      <th>VR</th>\n",
       "      <th>Area</th>\n",
       "      <th>Salario Total</th>\n",
       "    </tr>\n",
       "  </thead>\n",
       "  <tbody>\n",
       "    <tr>\n",
       "      <th>0</th>\n",
       "      <td>1</td>\n",
       "      <td>Gabriel Mesquita</td>\n",
       "      <td>21910</td>\n",
       "      <td>10955.0</td>\n",
       "      <td>4382.0</td>\n",
       "      <td>242</td>\n",
       "      <td>719.04</td>\n",
       "      <td>Operações</td>\n",
       "      <td>38208.04</td>\n",
       "    </tr>\n",
       "    <tr>\n",
       "      <th>1</th>\n",
       "      <td>2</td>\n",
       "      <td>João Haddad</td>\n",
       "      <td>5404</td>\n",
       "      <td>2702.0</td>\n",
       "      <td>1080.8</td>\n",
       "      <td>154</td>\n",
       "      <td>574.56</td>\n",
       "      <td>Logística</td>\n",
       "      <td>9915.36</td>\n",
       "    </tr>\n",
       "  </tbody>\n",
       "</table>\n",
       "</div>"
      ],
      "text/plain": [
       "   ID Funcionário     Nome Completo  Salario Base  Impostos  Beneficios   VT  \\\n",
       "0               1  Gabriel Mesquita         21910   10955.0      4382.0  242   \n",
       "1               2       João Haddad          5404    2702.0      1080.8  154   \n",
       "\n",
       "       VR       Area  Salario Total  \n",
       "0  719.04  Operações       38208.04  \n",
       "1  574.56  Logística        9915.36  "
      ]
     },
     "execution_count": 1117,
     "metadata": {},
     "output_type": "execute_result"
    }
   ],
   "source": [
    "# CRIEI UMA FUNCTION IMPORTANDO OS DADOS FAZENDO TRATAMENTO DE EXCLUSÃO DE COLUNA E CRIANDO UMA COLUNA CALCULADA COM A SALARIO TOTAL\n",
    "def carregar_df3():\n",
    "    df3 = pd.read_csv(r\"CadastroFuncionarios.csv\", sep=\";\", decimal=\",\", index_col=None )\n",
    "    df3 = df3.drop(['Estado Civil','Cargo'], axis=1)\n",
    "    df3['Salario Total'] =  df3['Salario Base'] + df3['Impostos'] + df3['Beneficios'] + df3['VT']+df3['VR']\n",
    "    return df3\n",
    "    \n",
    "df3.head(2)  \n"
   ]
  },
  {
   "cell_type": "code",
   "execution_count": 1118,
   "metadata": {},
   "outputs": [
    {
     "name": "stdout",
     "output_type": "stream",
     "text": [
      "<class 'pandas.core.frame.DataFrame'>\n",
      "RangeIndex: 114 entries, 0 to 113\n",
      "Data columns (total 9 columns):\n",
      " #   Column          Non-Null Count  Dtype  \n",
      "---  ------          --------------  -----  \n",
      " 0   ID Funcionário  114 non-null    int64  \n",
      " 1   Nome Completo   114 non-null    object \n",
      " 2   Salario Base    114 non-null    int64  \n",
      " 3   Impostos        114 non-null    float64\n",
      " 4   Beneficios      114 non-null    float64\n",
      " 5   VT              114 non-null    int64  \n",
      " 6   VR              114 non-null    float64\n",
      " 7   Area            114 non-null    object \n",
      " 8   Salario Total   114 non-null    float64\n",
      "dtypes: float64(4), int64(3), object(2)\n",
      "memory usage: 8.1+ KB\n"
     ]
    }
   ],
   "source": [
    "df3.info()"
   ]
  },
  {
   "cell_type": "markdown",
   "metadata": {},
   "source": [
    "# Analise Solicitadas"
   ]
  },
  {
   "cell_type": "markdown",
   "metadata": {},
   "source": [
    "## 1.Valor Total da Folha Salarial -> Qual foi o gasto total com salários de funcionários pela empresa?\r\n",
    "Sugestão: calcule o salário total de cada funcionário, salário + benefícios + impostos, depois some todos os salários"
   ]
  },
  {
   "cell_type": "code",
   "execution_count": 1121,
   "metadata": {},
   "outputs": [
    {
     "name": "stdout",
     "output_type": "stream",
     "text": [
      "================================================================================\n",
      "                                 GASTOS COM SALÁRIOS             \n",
      "================================================================================\n",
      "O total de gasto com funcionários de salário e benefícios é R$ 2,717,493.22\n",
      "================================================================================\n"
     ]
    }
   ],
   "source": [
    "# CRIADA A FUNÇÃO  IMPORTANDO OS DADOS E SOMANDO AS COLUNAS REPRESENTANDO O TOTAL DA FOLHA SALARIAL\n",
    "def Funcao01():\n",
    "    df3 = carregar_df3()  \n",
    "    df3_total = df3[['Salario Base','Impostos', 'Beneficios', 'VT', 'VR']].sum().sum()  # Somar as colunas selecionadas\n",
    "    return f'O total de gasto com funcionários de salário e benefícios é R$ {df3_total:,.2f}'  # Retornar o resultado formatado\n",
    "    \n",
    "print(\"=\" * 80)\n",
    "print(\"                                 GASTOS COM SALÁRIOS             \")\n",
    "print(\"=\" * 80)\n",
    "\n",
    "print(Funcao01())\n",
    "\n",
    "print(\"=\" * 80)\n"
   ]
  },
  {
   "cell_type": "markdown",
   "metadata": {},
   "source": [
    "#  2. Qual foi o faturamento da empresa?\r\n",
    "Sugestão: calcule o faturamento total de cada serviço e depois some o faturamento de todos\r\n",
    "\r\n"
   ]
  },
  {
   "cell_type": "code",
   "execution_count": 1123,
   "metadata": {},
   "outputs": [
    {
     "name": "stdout",
     "output_type": "stream",
     "text": [
      "==================================================\n",
      "              FATURAMENTO TOTAL       \n",
      "==================================================\n",
      "O  faturamento total  é R$ 5,519,160.00\n",
      "==================================================\n"
     ]
    }
   ],
   "source": [
    "# CRIANDO UMA FUNÇÃO IMPORTANDO OS DADOS  DE DUAS TABELA EM SEGUIDA CRIANDO UM MERGE UNINDO AS DUAS TABELAS \n",
    "# JÁ DENTRO DO MERGE FILTRAMOS APENAS AS COLUNAS QUE VAMOS UTILIZAR \n",
    "# CRIAMOS UMA COLUNA CALCULADA COM VALOR DO CONTRATO REFERENTE A TODOS OS MESES \n",
    "# REALIZAMOS A SOMA DA COLUNA VALOR TOTAL PARA SABER QUANTO DE FATURAMENTO TOTAL \n",
    "def Funcao002():\n",
    "    df01 = pd.read_excel(r\"BaseServiçosPrestados.xlsx\", index_col=None)\n",
    "    df02V= pd.read_csv(r\"CadastroClientes.csv\", sep=\";\", decimal=\",\", index_col=None)\n",
    "    faturamento_df = df01[['ID Cliente', 'Tempo Total de Contrato (Meses)']].merge(df02[['ID Cliente', 'Valor Contrato Mensal']], on='ID Cliente')\n",
    "    faturamento_df['valor total'] = faturamento_df['Tempo Total de Contrato (Meses)'] * faturamento_df['Valor Contrato Mensal']\n",
    "    faturamento_df = faturamento_df['valor total'].sum()\n",
    "    return faturamento_df\n",
    "\n",
    "# Exibindo o resultado de forma bonita\n",
    "print(\"=\" * 50)\n",
    "print(\"              FATURAMENTO TOTAL       \")\n",
    "print(\"=\" * 50)\n",
    "print(f'O  faturamento total  é R$ {faturamento_df:,.2f}')\n",
    "print(\"=\" * 50)"
   ]
  },
  {
   "cell_type": "markdown",
   "metadata": {},
   "source": [
    "# 3. Qual o % de funcionários que já fechou algum contrato?\r\n",
    "Sugestão: na base de serviços temos o funcionário que fechou cada serviço. Mas nem todos os funcionários que a empresa tem já fecharam algum serviço.\r\n",
    ". Na base de funcionários temos uma lista com todos os funcionários\r\n",
    ". Queremos calcular Qtde_Funcionarios_Fecharam_Serviço / Qtde_Funcionários_Totais\r\n",
    ". Para calcular a qtde de funcionários que fecharam algum serviço, use a base de serviços e conte quantos funcionários tem ali. Mas lembre-se, cada funcionário só pode ser contado uma única \n",
    "\n",
    "Dica: se você aplicar o método .unique() em uma variável que é apenas 1 coluna de um dataframe, ele vai excluir todos os valores duplicados daquela coluna.\r\n",
    "Ex: unicos_colunaA = dataframe['colunaA'].unique() te dá como resposta uma lista com todos os itens da colunaA aparecendo uma única vez. Todos os valores repetidos da colunaA são excluidos da variável unicos_colunaAvez."
   ]
  },
  {
   "cell_type": "code",
   "execution_count": 1125,
   "metadata": {},
   "outputs": [],
   "source": [
    "# FORMA SIMPLES\n",
    "#qtde_funcionarios_fecharam = len(df['ID Funcionário'].unique())\n",
    "#qtde_funcionarios_totais   = len(df3['ID Funcionário'])\n",
    "#print('Percentual foi de {:.2%}'.format(qtde_funcionarios_fecharam / qtde_funcionarios_totais))"
   ]
  },
  {
   "cell_type": "code",
   "execution_count": 1126,
   "metadata": {},
   "outputs": [
    {
     "data": {
      "text/plain": [
       "114"
      ]
     },
     "execution_count": 1126,
     "metadata": {},
     "output_type": "execute_result"
    }
   ],
   "source": [
    "# FORMA MAIS SIMPLES\n",
    "df = carregar_df3()  # Carregar o DataFrame\n",
    "df_distintos = df['ID Funcionário'].nunique()  # Contar os valores distintos na coluna 'ID Funcionário'\n",
    "df_distintos  # Exibir o resultado\n",
    "\n"
   ]
  },
  {
   "cell_type": "code",
   "execution_count": 1127,
   "metadata": {},
   "outputs": [
    {
     "data": {
      "text/plain": [
       "99"
      ]
     },
     "execution_count": 1127,
     "metadata": {},
     "output_type": "execute_result"
    }
   ],
   "source": [
    "\n",
    "df = carrega_df()\n",
    "df_distintos1 = df['ID Funcionário'].nunique()  # Contar os valores distintos na coluna 'ID Funcionário'\n",
    "df_distintos1  # Exibir o resultado\n",
    "\n"
   ]
  },
  {
   "cell_type": "code",
   "execution_count": 1128,
   "metadata": {},
   "outputs": [
    {
     "name": "stdout",
     "output_type": "stream",
     "text": [
      "============================================================\n",
      "               PERCENTUAL DOS QUE TIVERAM VENDAS           \n",
      "============================================================\n",
      "O percentual de vendedores que tiveram vendas é: 86.84%\n",
      "============================================================\n"
     ]
    }
   ],
   "source": [
    "def Funcao03():\n",
    "    percentual_do_vendedores_que_tiveram_vendas = df_distintos1 / df_distintos\n",
    "    percentual_do_vendedores_que_tiveram_vendas    \n",
    "    return f'O percentual de vendedores que tiveram vendas é: {percentual_do_vendedores_que_tiveram_vendas * 100:.2f}%'\n",
    "print(\"=\" * 60)\n",
    "print(\"               PERCENTUAL DOS QUE TIVERAM VENDAS           \")\n",
    "print(\"=\" * 60)\n",
    "\n",
    "print(Funcao03())\n",
    "\n",
    "print(\"=\" * 60)\n"
   ]
  },
  {
   "cell_type": "markdown",
   "metadata": {},
   "source": [
    "## Calcule o total de contratos que cada área da empresa já fechou\r\n",
    "\r\n"
   ]
  },
  {
   "cell_type": "code",
   "execution_count": 1130,
   "metadata": {},
   "outputs": [
    {
     "name": "stdout",
     "output_type": "stream",
     "text": [
      "Area\n",
      "Administrativo    63\n",
      "Operações         48\n",
      "Comercial         44\n",
      "Financeiro        42\n",
      "Logística         40\n",
      "Name: count, dtype: int64\n"
     ]
    },
    {
     "data": {
      "text/plain": [
       "<Axes: xlabel='Area'>"
      ]
     },
     "execution_count": 1130,
     "metadata": {},
     "output_type": "execute_result"
    },
    {
     "data": {
      "image/png": "[encoded data removed]",
      "text/plain": [
       "<Figure size 640x480 with 1 Axes>"
      ]
     },
     "metadata": {},
     "output_type": "display_data"
    }
   ],
   "source": [
    "# FORMA SIMPLES \n",
    "contratos_area_df = df[['ID Funcionário']].merge(df3[['ID Funcionário', 'Area']])\n",
    "#display(contratos_area_df)\n",
    "qtde_contratos_area = contratos_area_df['Area'].value_counts()\n",
    "print(qtde_contratos_area)\n",
    "qtde_contratos_area.plot(kind='bar')"
   ]
  },
  {
   "cell_type": "code",
   "execution_count": 1131,
   "metadata": {},
   "outputs": [
    {
     "data": {
      "image/png": "[encoded data removed]",
      "text/plain": [
       "<Figure size 1000x600 with 1 Axes>"
      ]
     },
     "metadata": {},
     "output_type": "display_data"
    }
   ],
   "source": [
    "# \n",
    "# Realizando a mesclagem dos DataFrames com base na coluna 'ID Funcionário'\n",
    "df_dados = df3.merge(df, on='ID Funcionário')\n",
    "\n",
    "# Selecionando apenas as colunas 'ID Funcionário' e 'Area'\n",
    "df_dados = df_dados[['ID Funcionário', 'Area']]\n",
    "\n",
    "# Agrupando os dados pela coluna 'Area' e contando o número de registros em cada grupo\n",
    "df_dados_grouped = df_dados.groupby('Area').size()\n",
    "\n",
    "\n",
    "\n",
    "# Criando o gráfico de barras\n",
    "df_dados_grouped.plot(kind='bar', color='skyblue', figsize=(10, 6))\n",
    "\n",
    "# Adicionando título e rótulos aos eixos\n",
    "plt.title('Número de Contrato por Área', fontsize=14)\n",
    "plt.xlabel('Área', fontsize=12)\n",
    "plt.ylabel('Número de Contrato', fontsize=12)\n",
    "\n",
    "# Exibindo os valores no topo das barras\n",
    "for i, v in enumerate(df_dados_grouped):\n",
    "    plt.text(i, v + 0.1, str(v), ha='center', va='bottom', fontsize=10)\n",
    "\n",
    "# Exibindo o gráfico\n",
    "plt.tight_layout()\n",
    "plt.show()\n"
   ]
  },
  {
   "cell_type": "markdown",
   "metadata": {},
   "source": [
    "# 5.Calcule o total de funcionários por área"
   ]
  },
  {
   "cell_type": "code",
   "execution_count": 1133,
   "metadata": {},
   "outputs": [
    {
     "data": {
      "image/png": "[encoded data removed]",
      "text/plain": [
       "<Figure size 1000x600 with 1 Axes>"
      ]
     },
     "metadata": {},
     "output_type": "display_data"
    }
   ],
   "source": [
    "df = carregar_df3()\n",
    "df_dados_grouped = df3['Area'].value_counts()\n",
    "df_dados_grouped\n",
    "\n",
    "# Criando o gráfico de barras\n",
    "df_dados_grouped.plot(kind='bar', color='skyblue', figsize=(10, 6))\n",
    "\n",
    "# Adicionando título e rótulos aos eixos\n",
    "plt.title('Número de Funcionários por Área', fontsize=14)\n",
    "plt.xlabel('Área', fontsize=12)\n",
    "plt.ylabel('Número de Funcionários', fontsize=12)\n",
    "\n",
    "# Exibindo os valores no topo das barras\n",
    "for i, v in enumerate(df_dados_grouped):\n",
    "    plt.text(i, v + 0.1, str(v), ha='center', va='bottom', fontsize=10)\n",
    "\n",
    "# Exibindo o gráfico\n",
    "plt.tight_layout()\n",
    "plt.show()"
   ]
  },
  {
   "cell_type": "markdown",
   "metadata": {},
   "source": [
    "# Qual o ticket médio mensal (faturamento médio mensal) dos contratos?\r\n",
    "Dica: .mean() calcula a média -> exemplo: media_colunaA = dataframe['colunaA'].mean()"
   ]
  },
  {
   "cell_type": "code",
   "execution_count": 1135,
   "metadata": {},
   "outputs": [
    {
     "name": "stdout",
     "output_type": "stream",
     "text": [
      "==================================================\n",
      "        Média do Valor Contrato Mensal        \n",
      "==================================================\n",
      "Valor Médio do Contrato Mensal: R$ 2,502.56\n",
      "==================================================\n"
     ]
    }
   ],
   "source": [
    "# Carregar o DataFrame\n",
    "df = carregar_df2()\n",
    "\n",
    "# Calcular a média do 'Valor Contrato Mensal'\n",
    "media_valor_contrato = df['Valor Contrato Mensal'].mean()\n",
    "\n",
    "# Exibir o valor formatado de maneira amigável\n",
    "print(\"=\" * 50)\n",
    "print(\"        Média do Valor Contrato Mensal        \")\n",
    "print(\"=\" * 50)\n",
    "print(f\"Valor Médio do Contrato Mensal: R$ {media_valor_contrato:,.2f}\")\n",
    "print(\"=\" * 50)\n"
   ]
  },
  {
   "cell_type": "code",
   "execution_count": null,
   "metadata": {},
   "outputs": [],
   "source": []
  }
 ],
 "metadata": {
  "kernelspec": {
   "display_name": "Python 3 (ipykernel)",
   "language": "python",
   "name": "python3"
  },
  "language_info": {
   "codemirror_mode": {
    "name": "ipython",
    "version": 3
   },
   "file_extension": ".py",
   "mimetype": "text/x-python",
   "name": "python",
   "nbconvert_exporter": "python",
   "pygments_lexer": "ipython3",
   "version": "3.12.4"
  }
 },
 "nbformat": 4,
 "nbformat_minor": 4
}
